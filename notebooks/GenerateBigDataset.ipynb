{
 "cells": [
  {
   "cell_type": "markdown",
   "id": "fc9765fe",
   "metadata": {},
   "source": [
    "# Create training data with 50K fractal images"
   ]
  },
  {
   "cell_type": "code",
   "execution_count": 1,
   "id": "dba4050a",
   "metadata": {},
   "outputs": [],
   "source": [
    "%load_ext autoreload\n",
    "%autoreload 2\n",
    "%reset -f"
   ]
  },
  {
   "cell_type": "code",
   "execution_count": 3,
   "id": "0e14c75c",
   "metadata": {},
   "outputs": [],
   "source": [
    "from fractal_generator.fractal_generator import FractalGenerator, FractalType\n",
    "import numpy as np"
   ]
  },
  {
   "cell_type": "code",
   "execution_count": 4,
   "id": "3d64f9d4",
   "metadata": {},
   "outputs": [],
   "source": [
    "import pandas as pd\n",
    "pd.set_option('display.max_rows', 500)\n",
    "pd.set_option('display.max_columns', 500)"
   ]
  },
  {
   "cell_type": "markdown",
   "id": "230cf971",
   "metadata": {},
   "source": [
    "## Generate Dataset HD"
   ]
  },
  {
   "cell_type": "code",
   "execution_count": 10,
   "id": "217434e5",
   "metadata": {},
   "outputs": [
    {
     "name": "stdout",
     "output_type": "stream",
     "text": [
      "--- 6.200265645980835 seconds ---\n"
     ]
    }
   ],
   "source": [
    "from fractalGAN.fractal_dataset import FractalTrainingValidationSet\n",
    "import time\n",
    "start_time = time.time()\n",
    "FractalTrainingValidationSet(n_examples=5, directory='/home/gabriel_lopez/stylegan2/dataset4/').generate_examples()\n",
    "print(\"--- %s seconds ---\" % (time.time() - start_time))"
   ]
  },
  {
   "cell_type": "markdown",
   "id": "ecc6d82c",
   "metadata": {},
   "source": [
    "## Generate dataset 28*28"
   ]
  },
  {
   "cell_type": "code",
   "execution_count": null,
   "id": "f2b593d0",
   "metadata": {},
   "outputs": [
    {
     "name": "stderr",
     "output_type": "stream",
     "text": [
      "/home/gabriel_lopez/research_projects/FractalGAN/fractalGAN/fractal_generator.py:72: MatplotlibDeprecationWarning: savefig() got unexpected keyword argument \"png\" which is no longer supported as of 3.3 and will become an error two minor releases later\n",
      "  plt.savefig(str(Path(container) / filename), png='png', dpi=256)\n"
     ]
    }
   ],
   "source": [
    "from fractalGAN.fractal_dataset import FractalTrainingValidationSet\n",
    "import time\n",
    "start_time = time.time()\n",
    "FractalTrainingValidationSet(n_examples=60000, n=28, directory='/home/gabriel_lopez/stylegan2/dataset5/').generate_examples()\n",
    "print(\"--- %s seconds ---\" % (time.time() - start_time))"
   ]
  },
  {
   "cell_type": "markdown",
   "id": "5b1f9a5c",
   "metadata": {},
   "source": [
    "## Persist Manually"
   ]
  },
  {
   "cell_type": "code",
   "execution_count": 84,
   "id": "13938d05",
   "metadata": {},
   "outputs": [],
   "source": [
    "import matplotlib.pyplot as plt"
   ]
  },
  {
   "cell_type": "code",
   "execution_count": 85,
   "id": "17ca78ff",
   "metadata": {},
   "outputs": [
    {
     "name": "stderr",
     "output_type": "stream",
     "text": [
      "/home/gabriel_lopez/.conda/envs/gabs/lib/python3.7/site-packages/ipykernel_launcher.py:2: MatplotlibDeprecationWarning: savefig() got unexpected keyword argument \"png\" which is no longer supported as of 3.3 and will become an error two minor releases later\n",
      "  \n"
     ]
    },
    {
     "data": {
      "image/png": "[encoded data removed]",
      "text/plain": [
       "<Figure size 288x288 with 1 Axes>"
      ]
     },
     "metadata": {
      "needs_background": "light"
     },
     "output_type": "display_data"
    }
   ],
   "source": [
    "fig = FractalGenerator().create_julia().plot()\n",
    "plt.savefig('/home/gabriel_lopez/stylegan2/dataset3/hi', png='png', dpi=300)"
   ]
  },
  {
   "cell_type": "markdown",
   "id": "5b6ae5fb",
   "metadata": {},
   "source": [
    "## Time calculation"
   ]
  },
  {
   "cell_type": "code",
   "execution_count": 89,
   "id": "16bdb967",
   "metadata": {},
   "outputs": [
    {
     "data": {
      "text/plain": [
       "2.04"
      ]
     },
     "execution_count": 89,
     "metadata": {},
     "output_type": "execute_result"
    }
   ],
   "source": [
    "20.4/10"
   ]
  },
  {
   "cell_type": "code",
   "execution_count": 90,
   "id": "aadc5df6",
   "metadata": {},
   "outputs": [
    {
     "data": {
      "text/plain": [
       "5.666666666666667"
      ]
     },
     "execution_count": 90,
     "metadata": {},
     "output_type": "execute_result"
    }
   ],
   "source": [
    "2.04*10000/(60*60)"
   ]
  },
  {
   "cell_type": "code",
   "execution_count": null,
   "id": "e781bf84",
   "metadata": {},
   "outputs": [],
   "source": []
  }
 ],
 "metadata": {
  "kernelspec": {
   "display_name": "conda_python3",
   "language": "python",
   "name": "conda_python3"
  },
  "language_info": {
   "codemirror_mode": {
    "name": "ipython",
    "version": 3
   },
   "file_extension": ".py",
   "mimetype": "text/x-python",
   "name": "python",
   "nbconvert_exporter": "python",
   "pygments_lexer": "ipython3",
   "version": "3.6.13"
  }
 },
 "nbformat": 4,
 "nbformat_minor": 5
}
